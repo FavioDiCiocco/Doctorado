{
 "cells": [
  {
   "cell_type": "code",
   "execution_count": 1,
   "metadata": {},
   "outputs": [
    {
     "name": "stdout",
     "output_type": "stream",
     "text": [
      "\n",
      "The following command must be run outside of the IPython shell:\n",
      "\n",
      "    $ pip install scipy\n",
      "\n",
      "The Python package manager (pip) can only be used from outside of IPython.\n",
      "Please reissue the `pip` command in a separate terminal or command prompt.\n",
      "\n",
      "See the Python documentation for more information on how to install packages:\n",
      "\n",
      "    https://docs.python.org/3/installing/\n"
     ]
    }
   ],
   "source": [
    "pip install scipy"
   ]
  },
  {
   "cell_type": "code",
   "execution_count": 2,
   "metadata": {},
   "outputs": [],
   "source": [
    "import matplotlib.pyplot as plt\n",
    "import matplotlib.cm as cm \n",
    "import pandas as pd\n",
    "import seaborn as sns\n",
    "import numpy as np\n",
    "\n",
    "from scipy.optimize import curve_fit\n",
    "from scipy.odr import ODR, Model, Data, RealData\n",
    "from scipy.spatial.distance import jensenshannon"
   ]
  },
  {
   "cell_type": "code",
   "execution_count": 3,
   "metadata": {},
   "outputs": [],
   "source": [
    "import warnings\n",
    "warnings.filterwarnings('ignore')"
   ]
  },
  {
   "cell_type": "markdown",
   "metadata": {},
   "source": [
    "# LOAD DATA from ANES 2016\n",
    "\n",
    "The following code loads the ANES 2016 database, structured as follows:\n",
    "- Each column corresponds to one question of the survey (including things like mode of interview, demographic data...), codified with a string mixing letters and numbers.\n",
    "- Each row corresponds to one person.\n",
    "\n",
    "Information about which question is represented by each code is given in the \"anes_timeseries_2016_guidebook.pdf\", which can be found in data/anes_timeseries_2016/ folder.\n",
    "\n",
    "The coding method is a bit of a mess but there are some general ideas:\n",
    "- The survey is taken both before and after the election, but questions are not necessarily the same. Pre-election questions start with \"V161...\", and post-election ones, with \"V162...\". Codes beginning with \"V160...\" correspond to technical information.\n",
    "- When there are multiple possible answers in a question (religious identification, race...) each answer is usually codified as different by adding a letter to the code. For example, V161310 indicate self-identified race, and the answers are codified by V161310a: white; V161310b: black...\n",
    "- In those cases, results are aggregated in a final code which includes the letter 'x' at the end. In the former case, V161310x includes all possible races.\n",
    "\n",
    "Of special importance for our work are the questions about being in favor/opposite of certain policies. ANES has a singular way of making this kind of questions: First, it asks the respondant if he/she is in favor or against the policy. Then, it asks how much in favor or against it (the same code as the former question but adding a letter), and finally, they sumarize the results (the same code as before but with a letter x). For example, in the case of Building a wall with Mexico, first it is asked \"Do you favor, oppose, or neither favor nos oppose building a wall on the U.S. border with Mexico?\" (code V161196). Then, it is asked \"Do you favor/oppose that \\[a great deal, a moderate amount, a little\\]?\" (code V161196a). Finally, the summary is shown in code V161196x."
   ]
  },
  {
   "cell_type": "markdown",
   "metadata": {},
   "source": [
    "### A brief comment about representativity of surveys, just in case\n",
    "\n",
    "Even though ANES (and pretty much any other survey) tries to take a representative sample of the whole american society, there are always some variations that make some demographic groups either over or underrepresented. For example, if black women between 18 and 35 years old with income between 20K-30K dollars represent 10% of american society, but only 8% of the ANES sample, then one must give more importance to their answers with respect to the rest of the sample so that the final results of the survey are truly representative of the american society. This process of weighting data is as complicated as it seems, but most surveys perform this treatment themselves and include it in the data in the form of weights for each individual.\n",
    "\n",
    "In the ANES case, this information is codified in columns V160101 for the pre-election survey, and V160102 for the post-election one (Note that the sample varies a little between surveys, so the weights also change). There are more weights, but we are only interested in those two. Its application is straightforward: when computing histograms (or any other treatment), the answer of a given individual must be multiplied by his/her weight."
   ]
  },
  {
   "cell_type": "markdown",
   "metadata": {},
   "source": [
    "### Loading the database"
   ]
  },
  {
   "cell_type": "code",
   "execution_count": 5,
   "metadata": {
    "scrolled": false
   },
   "outputs": [
    {
     "ename": "UnicodeDecodeError",
     "evalue": "'utf-8' codec can't decode byte 0xa0 in position 7: invalid start byte",
     "output_type": "error",
     "traceback": [
      "\u001b[1;31m---------------------------------------------------------------------------\u001b[0m",
      "\u001b[1;31mUnicodeDecodeError\u001b[0m                        Traceback (most recent call last)",
      "\u001b[1;32m<ipython-input-5-8fc7e4ffa533>\u001b[0m in \u001b[0;36m<module>\u001b[1;34m()\u001b[0m\n\u001b[0;32m      1\u001b[0m \u001b[0mfilename\u001b[0m \u001b[1;33m=\u001b[0m \u001b[1;34m\"Anes_2016/anes_timeseries_2016.dta\"\u001b[0m\u001b[1;33m\u001b[0m\u001b[0m\n\u001b[1;32m----> 2\u001b[1;33m \u001b[0mdf_raw_data\u001b[0m \u001b[1;33m=\u001b[0m \u001b[0mpd\u001b[0m\u001b[1;33m.\u001b[0m\u001b[0mread_stata\u001b[0m\u001b[1;33m(\u001b[0m\u001b[0mfilename\u001b[0m\u001b[1;33m)\u001b[0m\u001b[1;33m\u001b[0m\u001b[0m\n\u001b[0m\u001b[0;32m      3\u001b[0m \u001b[0mdf_raw_data\u001b[0m\u001b[1;33m.\u001b[0m\u001b[0mhead\u001b[0m\u001b[1;33m(\u001b[0m\u001b[1;33m)\u001b[0m\u001b[1;33m\u001b[0m\u001b[0m\n",
      "\u001b[1;32mD:\\Documentos\\Laboratorio\\WPy-3661\\python-3.6.6.amd64\\lib\\site-packages\\pandas\\util\\_decorators.py\u001b[0m in \u001b[0;36mwrapper\u001b[1;34m(*args, **kwargs)\u001b[0m\n\u001b[0;32m    176\u001b[0m                 \u001b[1;32melse\u001b[0m\u001b[1;33m:\u001b[0m\u001b[1;33m\u001b[0m\u001b[0m\n\u001b[0;32m    177\u001b[0m                     \u001b[0mkwargs\u001b[0m\u001b[1;33m[\u001b[0m\u001b[0mnew_arg_name\u001b[0m\u001b[1;33m]\u001b[0m \u001b[1;33m=\u001b[0m \u001b[0mnew_arg_value\u001b[0m\u001b[1;33m\u001b[0m\u001b[0m\n\u001b[1;32m--> 178\u001b[1;33m             \u001b[1;32mreturn\u001b[0m \u001b[0mfunc\u001b[0m\u001b[1;33m(\u001b[0m\u001b[1;33m*\u001b[0m\u001b[0margs\u001b[0m\u001b[1;33m,\u001b[0m \u001b[1;33m**\u001b[0m\u001b[0mkwargs\u001b[0m\u001b[1;33m)\u001b[0m\u001b[1;33m\u001b[0m\u001b[0m\n\u001b[0m\u001b[0;32m    179\u001b[0m         \u001b[1;32mreturn\u001b[0m \u001b[0mwrapper\u001b[0m\u001b[1;33m\u001b[0m\u001b[0m\n\u001b[0;32m    180\u001b[0m     \u001b[1;32mreturn\u001b[0m \u001b[0m_deprecate_kwarg\u001b[0m\u001b[1;33m\u001b[0m\u001b[0m\n",
      "\u001b[1;32mD:\\Documentos\\Laboratorio\\WPy-3661\\python-3.6.6.amd64\\lib\\site-packages\\pandas\\io\\stata.py\u001b[0m in \u001b[0;36mread_stata\u001b[1;34m(filepath_or_buffer, convert_dates, convert_categoricals, encoding, index_col, convert_missing, preserve_dtypes, columns, order_categoricals, chunksize, iterator)\u001b[0m\n\u001b[0;32m    183\u001b[0m                          \u001b[0mcolumns\u001b[0m\u001b[1;33m=\u001b[0m\u001b[0mcolumns\u001b[0m\u001b[1;33m,\u001b[0m\u001b[1;33m\u001b[0m\u001b[0m\n\u001b[0;32m    184\u001b[0m                          \u001b[0morder_categoricals\u001b[0m\u001b[1;33m=\u001b[0m\u001b[0morder_categoricals\u001b[0m\u001b[1;33m,\u001b[0m\u001b[1;33m\u001b[0m\u001b[0m\n\u001b[1;32m--> 185\u001b[1;33m                          chunksize=chunksize, encoding=encoding)\n\u001b[0m\u001b[0;32m    186\u001b[0m \u001b[1;33m\u001b[0m\u001b[0m\n\u001b[0;32m    187\u001b[0m     \u001b[1;32mif\u001b[0m \u001b[0miterator\u001b[0m \u001b[1;32mor\u001b[0m \u001b[0mchunksize\u001b[0m\u001b[1;33m:\u001b[0m\u001b[1;33m\u001b[0m\u001b[0m\n",
      "\u001b[1;32mD:\\Documentos\\Laboratorio\\WPy-3661\\python-3.6.6.amd64\\lib\\site-packages\\pandas\\util\\_decorators.py\u001b[0m in \u001b[0;36mwrapper\u001b[1;34m(*args, **kwargs)\u001b[0m\n\u001b[0;32m    176\u001b[0m                 \u001b[1;32melse\u001b[0m\u001b[1;33m:\u001b[0m\u001b[1;33m\u001b[0m\u001b[0m\n\u001b[0;32m    177\u001b[0m                     \u001b[0mkwargs\u001b[0m\u001b[1;33m[\u001b[0m\u001b[0mnew_arg_name\u001b[0m\u001b[1;33m]\u001b[0m \u001b[1;33m=\u001b[0m \u001b[0mnew_arg_value\u001b[0m\u001b[1;33m\u001b[0m\u001b[0m\n\u001b[1;32m--> 178\u001b[1;33m             \u001b[1;32mreturn\u001b[0m \u001b[0mfunc\u001b[0m\u001b[1;33m(\u001b[0m\u001b[1;33m*\u001b[0m\u001b[0margs\u001b[0m\u001b[1;33m,\u001b[0m \u001b[1;33m**\u001b[0m\u001b[0mkwargs\u001b[0m\u001b[1;33m)\u001b[0m\u001b[1;33m\u001b[0m\u001b[0m\n\u001b[0m\u001b[0;32m    179\u001b[0m         \u001b[1;32mreturn\u001b[0m \u001b[0mwrapper\u001b[0m\u001b[1;33m\u001b[0m\u001b[0m\n\u001b[0;32m    180\u001b[0m     \u001b[1;32mreturn\u001b[0m \u001b[0m_deprecate_kwarg\u001b[0m\u001b[1;33m\u001b[0m\u001b[0m\n",
      "\u001b[1;32mD:\\Documentos\\Laboratorio\\WPy-3661\\python-3.6.6.amd64\\lib\\site-packages\\pandas\\io\\stata.py\u001b[0m in \u001b[0;36m__init__\u001b[1;34m(self, path_or_buf, convert_dates, convert_categoricals, index_col, convert_missing, preserve_dtypes, columns, order_categoricals, encoding, chunksize)\u001b[0m\n\u001b[0;32m   1013\u001b[0m             \u001b[0mself\u001b[0m\u001b[1;33m.\u001b[0m\u001b[0mpath_or_buf\u001b[0m \u001b[1;33m=\u001b[0m \u001b[0mBytesIO\u001b[0m\u001b[1;33m(\u001b[0m\u001b[0mcontents\u001b[0m\u001b[1;33m)\u001b[0m\u001b[1;33m\u001b[0m\u001b[0m\n\u001b[0;32m   1014\u001b[0m \u001b[1;33m\u001b[0m\u001b[0m\n\u001b[1;32m-> 1015\u001b[1;33m         \u001b[0mself\u001b[0m\u001b[1;33m.\u001b[0m\u001b[0m_read_header\u001b[0m\u001b[1;33m(\u001b[0m\u001b[1;33m)\u001b[0m\u001b[1;33m\u001b[0m\u001b[0m\n\u001b[0m\u001b[0;32m   1016\u001b[0m         \u001b[0mself\u001b[0m\u001b[1;33m.\u001b[0m\u001b[0m_setup_dtype\u001b[0m\u001b[1;33m(\u001b[0m\u001b[1;33m)\u001b[0m\u001b[1;33m\u001b[0m\u001b[0m\n\u001b[0;32m   1017\u001b[0m \u001b[1;33m\u001b[0m\u001b[0m\n",
      "\u001b[1;32mD:\\Documentos\\Laboratorio\\WPy-3661\\python-3.6.6.amd64\\lib\\site-packages\\pandas\\io\\stata.py\u001b[0m in \u001b[0;36m_read_header\u001b[1;34m(self)\u001b[0m\n\u001b[0;32m   1034\u001b[0m         \u001b[0mfirst_char\u001b[0m \u001b[1;33m=\u001b[0m \u001b[0mself\u001b[0m\u001b[1;33m.\u001b[0m\u001b[0mpath_or_buf\u001b[0m\u001b[1;33m.\u001b[0m\u001b[0mread\u001b[0m\u001b[1;33m(\u001b[0m\u001b[1;36m1\u001b[0m\u001b[1;33m)\u001b[0m\u001b[1;33m\u001b[0m\u001b[0m\n\u001b[0;32m   1035\u001b[0m         \u001b[1;32mif\u001b[0m \u001b[0mstruct\u001b[0m\u001b[1;33m.\u001b[0m\u001b[0munpack\u001b[0m\u001b[1;33m(\u001b[0m\u001b[1;34m'c'\u001b[0m\u001b[1;33m,\u001b[0m \u001b[0mfirst_char\u001b[0m\u001b[1;33m)\u001b[0m\u001b[1;33m[\u001b[0m\u001b[1;36m0\u001b[0m\u001b[1;33m]\u001b[0m \u001b[1;33m==\u001b[0m \u001b[1;34mb'<'\u001b[0m\u001b[1;33m:\u001b[0m\u001b[1;33m\u001b[0m\u001b[0m\n\u001b[1;32m-> 1036\u001b[1;33m             \u001b[0mself\u001b[0m\u001b[1;33m.\u001b[0m\u001b[0m_read_new_header\u001b[0m\u001b[1;33m(\u001b[0m\u001b[0mfirst_char\u001b[0m\u001b[1;33m)\u001b[0m\u001b[1;33m\u001b[0m\u001b[0m\n\u001b[0m\u001b[0;32m   1037\u001b[0m         \u001b[1;32melse\u001b[0m\u001b[1;33m:\u001b[0m\u001b[1;33m\u001b[0m\u001b[0m\n\u001b[0;32m   1038\u001b[0m             \u001b[0mself\u001b[0m\u001b[1;33m.\u001b[0m\u001b[0m_read_old_header\u001b[0m\u001b[1;33m(\u001b[0m\u001b[0mfirst_char\u001b[0m\u001b[1;33m)\u001b[0m\u001b[1;33m\u001b[0m\u001b[0m\n",
      "\u001b[1;32mD:\\Documentos\\Laboratorio\\WPy-3661\\python-3.6.6.amd64\\lib\\site-packages\\pandas\\io\\stata.py\u001b[0m in \u001b[0;36m_read_new_header\u001b[1;34m(self, first_char)\u001b[0m\n\u001b[0;32m   1106\u001b[0m \u001b[1;33m\u001b[0m\u001b[0m\n\u001b[0;32m   1107\u001b[0m         \u001b[0mself\u001b[0m\u001b[1;33m.\u001b[0m\u001b[0mpath_or_buf\u001b[0m\u001b[1;33m.\u001b[0m\u001b[0mseek\u001b[0m\u001b[1;33m(\u001b[0m\u001b[0mself\u001b[0m\u001b[1;33m.\u001b[0m\u001b[0m_seek_variable_labels\u001b[0m\u001b[1;33m)\u001b[0m\u001b[1;33m\u001b[0m\u001b[0m\n\u001b[1;32m-> 1108\u001b[1;33m         \u001b[0mself\u001b[0m\u001b[1;33m.\u001b[0m\u001b[0m_variable_labels\u001b[0m \u001b[1;33m=\u001b[0m \u001b[0mself\u001b[0m\u001b[1;33m.\u001b[0m\u001b[0m_get_variable_labels\u001b[0m\u001b[1;33m(\u001b[0m\u001b[1;33m)\u001b[0m\u001b[1;33m\u001b[0m\u001b[0m\n\u001b[0m\u001b[0;32m   1109\u001b[0m \u001b[1;33m\u001b[0m\u001b[0m\n\u001b[0;32m   1110\u001b[0m     \u001b[1;31m# Get data type information, works for versions 117-118.\u001b[0m\u001b[1;33m\u001b[0m\u001b[1;33m\u001b[0m\u001b[0m\n",
      "\u001b[1;32mD:\\Documentos\\Laboratorio\\WPy-3661\\python-3.6.6.amd64\\lib\\site-packages\\pandas\\io\\stata.py\u001b[0m in \u001b[0;36m_get_variable_labels\u001b[1;34m(self)\u001b[0m\n\u001b[0;32m   1177\u001b[0m         \u001b[1;32mif\u001b[0m \u001b[0mself\u001b[0m\u001b[1;33m.\u001b[0m\u001b[0mformat_version\u001b[0m \u001b[1;33m==\u001b[0m \u001b[1;36m118\u001b[0m\u001b[1;33m:\u001b[0m\u001b[1;33m\u001b[0m\u001b[0m\n\u001b[0;32m   1178\u001b[0m             vlblist = [self._decode(self.path_or_buf.read(321))\n\u001b[1;32m-> 1179\u001b[1;33m                        for i in range(self.nvar)]\n\u001b[0m\u001b[0;32m   1180\u001b[0m         \u001b[1;32melif\u001b[0m \u001b[0mself\u001b[0m\u001b[1;33m.\u001b[0m\u001b[0mformat_version\u001b[0m \u001b[1;33m>\u001b[0m \u001b[1;36m105\u001b[0m\u001b[1;33m:\u001b[0m\u001b[1;33m\u001b[0m\u001b[0m\n\u001b[0;32m   1181\u001b[0m             vlblist = [self._null_terminate(self.path_or_buf.read(81))\n",
      "\u001b[1;32mD:\\Documentos\\Laboratorio\\WPy-3661\\python-3.6.6.amd64\\lib\\site-packages\\pandas\\io\\stata.py\u001b[0m in \u001b[0;36m<listcomp>\u001b[1;34m(.0)\u001b[0m\n\u001b[0;32m   1177\u001b[0m         \u001b[1;32mif\u001b[0m \u001b[0mself\u001b[0m\u001b[1;33m.\u001b[0m\u001b[0mformat_version\u001b[0m \u001b[1;33m==\u001b[0m \u001b[1;36m118\u001b[0m\u001b[1;33m:\u001b[0m\u001b[1;33m\u001b[0m\u001b[0m\n\u001b[0;32m   1178\u001b[0m             vlblist = [self._decode(self.path_or_buf.read(321))\n\u001b[1;32m-> 1179\u001b[1;33m                        for i in range(self.nvar)]\n\u001b[0m\u001b[0;32m   1180\u001b[0m         \u001b[1;32melif\u001b[0m \u001b[0mself\u001b[0m\u001b[1;33m.\u001b[0m\u001b[0mformat_version\u001b[0m \u001b[1;33m>\u001b[0m \u001b[1;36m105\u001b[0m\u001b[1;33m:\u001b[0m\u001b[1;33m\u001b[0m\u001b[0m\n\u001b[0;32m   1181\u001b[0m             vlblist = [self._null_terminate(self.path_or_buf.read(81))\n",
      "\u001b[1;32mD:\\Documentos\\Laboratorio\\WPy-3661\\python-3.6.6.amd64\\lib\\site-packages\\pandas\\io\\stata.py\u001b[0m in \u001b[0;36m_decode\u001b[1;34m(self, s)\u001b[0m\n\u001b[0;32m   1336\u001b[0m     \u001b[1;32mdef\u001b[0m \u001b[0m_decode\u001b[0m\u001b[1;33m(\u001b[0m\u001b[0mself\u001b[0m\u001b[1;33m,\u001b[0m \u001b[0ms\u001b[0m\u001b[1;33m)\u001b[0m\u001b[1;33m:\u001b[0m\u001b[1;33m\u001b[0m\u001b[0m\n\u001b[0;32m   1337\u001b[0m         \u001b[0ms\u001b[0m \u001b[1;33m=\u001b[0m \u001b[0ms\u001b[0m\u001b[1;33m.\u001b[0m\u001b[0mpartition\u001b[0m\u001b[1;33m(\u001b[0m\u001b[1;34mb\"\\0\"\u001b[0m\u001b[1;33m)\u001b[0m\u001b[1;33m[\u001b[0m\u001b[1;36m0\u001b[0m\u001b[1;33m]\u001b[0m\u001b[1;33m\u001b[0m\u001b[0m\n\u001b[1;32m-> 1338\u001b[1;33m         \u001b[1;32mreturn\u001b[0m \u001b[0ms\u001b[0m\u001b[1;33m.\u001b[0m\u001b[0mdecode\u001b[0m\u001b[1;33m(\u001b[0m\u001b[1;34m'utf-8'\u001b[0m\u001b[1;33m)\u001b[0m\u001b[1;33m\u001b[0m\u001b[0m\n\u001b[0m\u001b[0;32m   1339\u001b[0m \u001b[1;33m\u001b[0m\u001b[0m\n\u001b[0;32m   1340\u001b[0m     \u001b[1;32mdef\u001b[0m \u001b[0m_null_terminate\u001b[0m\u001b[1;33m(\u001b[0m\u001b[0mself\u001b[0m\u001b[1;33m,\u001b[0m \u001b[0ms\u001b[0m\u001b[1;33m)\u001b[0m\u001b[1;33m:\u001b[0m\u001b[1;33m\u001b[0m\u001b[0m\n",
      "\u001b[1;31mUnicodeDecodeError\u001b[0m: 'utf-8' codec can't decode byte 0xa0 in position 7: invalid start byte"
     ]
    }
   ],
   "source": [
    "filename = \"Anes_2016/anes_timeseries_2016.dta\"\n",
    "df_raw_data = pd.read_stata(filename)\n",
    "df_raw_data.head()\n"
   ]
  },
  {
   "cell_type": "markdown",
   "metadata": {},
   "source": [
    "Below there is a little bit of information about the relevant questions (those that one could consider minimally polarized) that I've found in the ANES 2016. I think it is quite comprehensive (it took some time to build), but I haven't checked all the codes.\n",
    "\n",
    "There is also information about the number of possible answers (or boxes) in each question. Ideally, we want either 6 or 7 boxes, so that we have more resolution about people's opinions. 4 boxes are too few to be able to perform a meaningful analysis."
   ]
  },
  {
   "cell_type": "markdown",
   "metadata": {},
   "source": [
    "## Checklist\n",
    "\n",
    "President handling job: V161082x (4 boxes) \\\n",
    "President handling economy: V161083x (4 boxes) \\\n",
    "President handling foreing relations: V161084x (4 boxes) \\\n",
    "President handling healthcare: V161085x (4 boxes) \\\n",
    "Obamacare: V161114x (7 boxes) \\\n",
    "Voting as duty or choice: V161151x (7 boxes) \\\n",
    "Party identification: V161158x (7 boxes) \\\n",
    "Birthright citizenship: V161194x (7 boxes) \\\n",
    "Children brought illegally should be sent back: V161195x (6 boxes) \\\n",
    "Wall with Mexico: V161196x (7 boxes) \\\n",
    "Government assistance to blacks: V161198 (7 boxes) \\\n",
    "Affirmative action in the univerisites: V161204x (7 boxes) \\\n",
    "Send troops to fight ISIS: V161213x (7 boxes) \\\n",
    "Allow Syrian refugees: V161214x (7 boxes) \\\n",
    "Government action about rising temperatures: V161225x (7 boxes) \\\n",
    "Require employers to offer paid leave to new parents: V161226x (7 boxes) \\\n",
    "Service to same sex couples: V161227x (6 boxes) \\\n",
    "Transgender bathrooms: V161228x (6 boxes) \\\n",
    "Laws protecting homosexual job discrimination: V161229x (4 boxes) \\\n",
    "Death penalty: V161233x (4 boxes)\n",
    "\n",
    "POST-ELECTION: \n",
    "\n",
    "Economic mobility compared to 20 yrs ago: V162136x (7 boxes) \\\n",
    "Vaccines at school: V162147x (7 boxes) \\\n",
    "Equal pay: V162150x (7 boxes) \\\n",
    "Benefits/risks of vaccinations: V162162x (7 boxes) \\\n",
    "Liberal/Conservative self-placement: V162171 (7 boxes) (NOT INCLUDED: negative betas sometimes) \\\n",
    "Free-trade agreements: V162176x (7 boxes) \\\n",
    "Government should regulate banks: V162180x (7 boxes) \\\n",
    "Government spending for healthcare: V162193x (7 boxes) \\\n",
    "Obama is a muslim: V162255x (9 boxes) (NOT INCLUDED for convenience) \\\n",
    "Torture for terrorists: V162295x (7 boxes)"
   ]
  },
  {
   "cell_type": "markdown",
   "metadata": {},
   "source": [
    "# About format in the answers\n",
    "\n",
    "Unfortunately, sociologists don't usually work with Python, but use other specific software. As a result, they are not very categorical with their data, meaning that the response format can vary from integers to floats and worst of all, strings. Therefore, before trying to work with the data one must usually convert all of those into integers or floats (when aplicable).\n",
    "\n",
    "The following code extracts **some** of the relevant questions of the previous list into a new database (\"df_data\"), including the weights, and curates the data so that categorical responses are given as integers from 1 onwards, with the function \"data_processor\". We could maybe avoid this step, but then comparison between real-world and synthetic distributions might become very complicated. Note that answers in string format usually include the integer that correspond to each answer as the first digit of the string (e.g. \"1. Favor a great deal\" the construction of a will with Mexico).\n",
    "\n",
    "**Important**: ANES is relatively consistent in that \"1\" usually means greatly in favor, but some questions have different kinds of answers (e.g. V161228x: Transgender policy, in which respondant chooses between \"gender born\" or \"gender identified\" instead of \"favor\" or \"oppose\"). Nevertheless, even when the questions have \"favor/oppose\" answers, responses can be easily misinterpreted. Take, for example, the issues \"Wall with Mexico\" (V161196x) and \"Birthright citizenship\" (V161193x). In those cases, \"1\" has the meaning \"In favor of constructing a wall with Mexico\" (leaning republican), but also \"Favor birthright citizenship\" (leaning democrat). This will become very relevant when we try to compare real opinion distributions with synthetic ones, and will probably need some further data curation.\n",
    "\n",
    "Some considerations: if a response is not given, then a '0' is assigned. Some responses have negative numbers (e.g. \"-8. Don't know\", \"-9. refused to answer\"...), and those are also assigned a '0'. Finally, it is assumed that only integers below 9 are used. This is true for most questions, as there are usually no more than 8 answers, but not in all of them. Maybe the most representative cases are the \"feeling thermometer\" from 0 to 100 (V161086 to V161096, and V162078 to V162113). Regardless, none of the questions included in the former list incur in this problem."
   ]
  },
  {
   "cell_type": "code",
   "execution_count": 4,
   "metadata": {
    "scrolled": false
   },
   "outputs": [
    {
     "data": {
      "text/html": [
       "<div>\n",
       "<style scoped>\n",
       "    .dataframe tbody tr th:only-of-type {\n",
       "        vertical-align: middle;\n",
       "    }\n",
       "\n",
       "    .dataframe tbody tr th {\n",
       "        vertical-align: top;\n",
       "    }\n",
       "\n",
       "    .dataframe thead th {\n",
       "        text-align: right;\n",
       "    }\n",
       "</style>\n",
       "<table border=\"1\" class=\"dataframe\">\n",
       "  <thead>\n",
       "    <tr style=\"text-align: right;\">\n",
       "      <th></th>\n",
       "      <th>V161082x</th>\n",
       "      <th>V161083x</th>\n",
       "      <th>V161084x</th>\n",
       "      <th>V161085x</th>\n",
       "      <th>V161114x</th>\n",
       "      <th>V161151x</th>\n",
       "      <th>V161158x</th>\n",
       "      <th>V161194x</th>\n",
       "      <th>V161195x</th>\n",
       "      <th>V161196x</th>\n",
       "      <th>...</th>\n",
       "      <th>V162147x</th>\n",
       "      <th>V162150x</th>\n",
       "      <th>V162162x</th>\n",
       "      <th>V162171</th>\n",
       "      <th>V162176x</th>\n",
       "      <th>V162180x</th>\n",
       "      <th>V162193x</th>\n",
       "      <th>V162295x</th>\n",
       "      <th>V160101</th>\n",
       "      <th>V160102</th>\n",
       "    </tr>\n",
       "  </thead>\n",
       "  <tbody>\n",
       "    <tr>\n",
       "      <th>0</th>\n",
       "      <td>4</td>\n",
       "      <td>4</td>\n",
       "      <td>4</td>\n",
       "      <td>4</td>\n",
       "      <td>7</td>\n",
       "      <td>4</td>\n",
       "      <td>7</td>\n",
       "      <td>4</td>\n",
       "      <td>5</td>\n",
       "      <td>1</td>\n",
       "      <td>...</td>\n",
       "      <td>2</td>\n",
       "      <td>2</td>\n",
       "      <td>4</td>\n",
       "      <td>6</td>\n",
       "      <td>2</td>\n",
       "      <td>2</td>\n",
       "      <td>4</td>\n",
       "      <td>4</td>\n",
       "      <td>0.8270</td>\n",
       "      <td>0.8420</td>\n",
       "    </tr>\n",
       "    <tr>\n",
       "      <th>1</th>\n",
       "      <td>4</td>\n",
       "      <td>0</td>\n",
       "      <td>0</td>\n",
       "      <td>4</td>\n",
       "      <td>4</td>\n",
       "      <td>4</td>\n",
       "      <td>6</td>\n",
       "      <td>1</td>\n",
       "      <td>5</td>\n",
       "      <td>1</td>\n",
       "      <td>...</td>\n",
       "      <td>1</td>\n",
       "      <td>1</td>\n",
       "      <td>1</td>\n",
       "      <td>5</td>\n",
       "      <td>4</td>\n",
       "      <td>4</td>\n",
       "      <td>2</td>\n",
       "      <td>7</td>\n",
       "      <td>1.0806</td>\n",
       "      <td>1.0133</td>\n",
       "    </tr>\n",
       "    <tr>\n",
       "      <th>2</th>\n",
       "      <td>4</td>\n",
       "      <td>4</td>\n",
       "      <td>4</td>\n",
       "      <td>4</td>\n",
       "      <td>2</td>\n",
       "      <td>6</td>\n",
       "      <td>3</td>\n",
       "      <td>7</td>\n",
       "      <td>2</td>\n",
       "      <td>6</td>\n",
       "      <td>...</td>\n",
       "      <td>1</td>\n",
       "      <td>1</td>\n",
       "      <td>5</td>\n",
       "      <td>0</td>\n",
       "      <td>6</td>\n",
       "      <td>2</td>\n",
       "      <td>2</td>\n",
       "      <td>1</td>\n",
       "      <td>0.3878</td>\n",
       "      <td>0.3672</td>\n",
       "    </tr>\n",
       "    <tr>\n",
       "      <th>3</th>\n",
       "      <td>4</td>\n",
       "      <td>4</td>\n",
       "      <td>3</td>\n",
       "      <td>4</td>\n",
       "      <td>6</td>\n",
       "      <td>7</td>\n",
       "      <td>5</td>\n",
       "      <td>4</td>\n",
       "      <td>5</td>\n",
       "      <td>4</td>\n",
       "      <td>...</td>\n",
       "      <td>4</td>\n",
       "      <td>2</td>\n",
       "      <td>4</td>\n",
       "      <td>6</td>\n",
       "      <td>4</td>\n",
       "      <td>4</td>\n",
       "      <td>6</td>\n",
       "      <td>4</td>\n",
       "      <td>0.3596</td>\n",
       "      <td>0.3663</td>\n",
       "    </tr>\n",
       "    <tr>\n",
       "      <th>4</th>\n",
       "      <td>3</td>\n",
       "      <td>4</td>\n",
       "      <td>3</td>\n",
       "      <td>4</td>\n",
       "      <td>4</td>\n",
       "      <td>5</td>\n",
       "      <td>3</td>\n",
       "      <td>6</td>\n",
       "      <td>6</td>\n",
       "      <td>7</td>\n",
       "      <td>...</td>\n",
       "      <td>4</td>\n",
       "      <td>1</td>\n",
       "      <td>2</td>\n",
       "      <td>4</td>\n",
       "      <td>4</td>\n",
       "      <td>4</td>\n",
       "      <td>7</td>\n",
       "      <td>4</td>\n",
       "      <td>0.6470</td>\n",
       "      <td>0.6463</td>\n",
       "    </tr>\n",
       "  </tbody>\n",
       "</table>\n",
       "<p>5 rows × 31 columns</p>\n",
       "</div>"
      ],
      "text/plain": [
       "  V161082x V161083x V161084x V161085x V161114x V161151x  V161158x  V161194x  \\\n",
       "0        4        4        4        4        7        4         7         4   \n",
       "1        4        0        0        4        4        4         6         1   \n",
       "2        4        4        4        4        2        6         3         7   \n",
       "3        4        4        3        4        6        7         5         4   \n",
       "4        3        4        3        4        4        5         3         6   \n",
       "\n",
       "   V161195x  V161196x  ...  V162147x  V162150x  V162162x  V162171  V162176x  \\\n",
       "0         5         1  ...         2         2         4        6         2   \n",
       "1         5         1  ...         1         1         1        5         4   \n",
       "2         2         6  ...         1         1         5        0         6   \n",
       "3         5         4  ...         4         2         4        6         4   \n",
       "4         6         7  ...         4         1         2        4         4   \n",
       "\n",
       "   V162180x  V162193x  V162295x V160101 V160102  \n",
       "0         2         4         4  0.8270  0.8420  \n",
       "1         4         2         7  1.0806  1.0133  \n",
       "2         2         2         1  0.3878  0.3672  \n",
       "3         4         6         4  0.3596  0.3663  \n",
       "4         4         7         4  0.6470  0.6463  \n",
       "\n",
       "[5 rows x 31 columns]"
      ]
     },
     "execution_count": 4,
     "metadata": {},
     "output_type": "execute_result"
    }
   ],
   "source": [
    "def data_processor(x):\n",
    "    if(isinstance(x, int)):\n",
    "        return x\n",
    "    elif(isinstance(x, float)):\n",
    "        return int(x)\n",
    "    elif(isinstance(x, str)):\n",
    "        return int(x[0]) if(x[0]!=\"-\" and int(x[0])<9) else 0\n",
    "    elif(x.isnan()):\n",
    "        return 0\n",
    "    else:\n",
    "        print(\"Error, no se ha identificado el tipo: {}\".format(type(x)))\n",
    "\n",
    "\n",
    "# Brief description of the codes\n",
    "dict_labels = {'V161114x':'Obamacare','V161151x':'Voting as duty or choice','V161158x':'Party identification', \n",
    "               'V161194x':'Birthright citizenship','V161195x':'Illegal-coming children sent back',\n",
    "               'V161196x':'Build wall with Mexico','V161198':'Government assistance to blacks',\n",
    "               'V161204x':'Affirmative action in the universities','V161213x':'Send troops to fight ISIS',\n",
    "               'V161214x':'Allow Syrian refugees','V161225x':'Government action about rising temp.',\n",
    "               'V161226x':'Employers to offer paid leave to parents','V161227x':'Allow to refuse service to same-sex couples',\n",
    "               'V161228x':'Transgender bathroom use', 'V162136x':'Econ. mobility compared to 20 yrs ago',\n",
    "               'V162147x':'Vaccines at school','V162150x':'Equal pay','V162162x':'Benefits of vaccin. outweight risks',\n",
    "               'V162171':'Liberal/conservative self-placement (post)','V162176x':'Free-trade agreements',\n",
    "               'V162180x':'Government should regulate banks','V162193x':'Government spending for healthcare','V162295x':'Torture for terrorists'\n",
    "               }\n",
    "        \n",
    "# Questions from the pre-election survey\n",
    "labels_pre = ['V161082x','V161083x','V161084x','V161085x','V161114x','V161151x','V161158x','V161194x','V161195x',\n",
    "               'V161196x','V161198','V161204x','V161213x','V161214x','V161225x','V161226x','V161227x','V161228x',\n",
    "               'V161229x','V161233x']\n",
    "# Questions from the post-election survey\n",
    "labels_post = ['V162136x','V162147x','V162150x','V162162x','V162171','V162176x','V162180x','V162193x','V162295x']\n",
    "        \n",
    "labels = labels_pre + labels_post\n",
    "\n",
    "# Questions with 7 boxes\n",
    "labels_7 = ['V161114x','V161151x','V161158x','V161194x','V161196x','V161198','V161204x','V161213x','V161214x',\n",
    "            'V161225x','V161226x','V162136x','V162147x','V162150x','V162162x','V162176x',\n",
    "            'V162180x','V162193x','V162295x']\n",
    "# Questions with 6 boxes\n",
    "labels_6 = ['V161195x','V161227x', 'V161228x']\n",
    "\n",
    "# Weights:\n",
    "# V160101 for pre-election data\n",
    "# V160102 for post-election data\n",
    "\n",
    "df_data_aux = df_raw_data[labels]\n",
    "df_data = pd.DataFrame()\n",
    "\n",
    "for code in labels:\n",
    "    df_data[code] = df_data_aux[code].apply(data_processor)\n",
    "    \n",
    "df_data[['V160101','V160102']] = df_raw_data[['V160101','V160102']]\n",
    "               \n",
    "df_data.head()\n"
   ]
  },
  {
   "cell_type": "markdown",
   "metadata": {},
   "source": [
    "# Representation\n",
    "\n",
    "## Seaborn\n",
    "With this data, we can easily plot all histograms with Seaborn (remember the weights): "
   ]
  },
  {
   "cell_type": "code",
   "execution_count": 5,
   "metadata": {
    "scrolled": false
   },
   "outputs": [
    {
     "name": "stdout",
     "output_type": "stream",
     "text": [
      "La pregunta que elegí ver es:  Benefits of vaccin. outweight risks\n"
     ]
    },
    {
     "data": {
      "text/plain": [
       "<AxesSubplot: xlabel='V162162x', ylabel='Count'>"
      ]
     },
     "execution_count": 5,
     "metadata": {},
     "output_type": "execute_result"
    },
    {
     "data": {
      "image/png": "[encoded data removed]",
      "text/plain": [
       "<Figure size 432x288 with 1 Axes>"
      ]
     },
     "metadata": {
      "needs_background": "light"
     },
     "output_type": "display_data"
    }
   ],
   "source": [
    "code = 'V162162x' # Birthright Citizenship\n",
    "weights = 'V160101'\n",
    "\n",
    "print(\"La pregunta que elegí ver es: \",dict_labels[code])\n",
    "\n",
    "sns.histplot(df_data.loc[df_data[code]>0], x=code, weights=weights, discrete=True)"
   ]
  },
  {
   "cell_type": "markdown",
   "metadata": {},
   "source": [
    "With two issues at the same time (note the apparent 'inverse ideology', as the most populated boxes are the upper left and lower right, because of the responses formulation):\n",
    "\n",
    "**(note) In the following we only consider individuals with a meaninful response in both issues.**"
   ]
  },
  {
   "cell_type": "code",
   "execution_count": 12,
   "metadata": {
    "scrolled": true
   },
   "outputs": [
    {
     "data": {
      "text/plain": [
       "Text(0, 0.5, 'Benefits of vaccin. outweight risks')"
      ]
     },
     "execution_count": 12,
     "metadata": {},
     "output_type": "execute_result"
    },
    {
     "data": {
      "image/png": "[encoded data removed]",
      "text/plain": [
       "<Figure size 432x288 with 2 Axes>"
      ]
     },
     "metadata": {
      "needs_background": "light"
     },
     "output_type": "display_data"
    }
   ],
   "source": [
    "code_1 = 'V161114x' # Wall with Mexico\n",
    "code_2 = 'V162162x' # Birthright citizenship\n",
    "weights = 'V160101'\n",
    "\n",
    "df_aux = df_data.loc[(df_data[code_1]>0) & (df_data[code_2]>0)]\n",
    "\n",
    "sns.histplot(df_aux, x=code_1, y=code_2, weights=weights, discrete=True, cbar=True, cmap='inferno')\n",
    "\n",
    "plt.xlabel(dict_labels[code_1])\n",
    "plt.ylabel(dict_labels[code_2])\n",
    "\n",
    "# plt.gca().invert_yaxis()\n",
    "\n",
    "# print(\"El código del eje X es: \",dict_labels[code_1])\n",
    "# print(\"El código del eje Y es: \",dict_labels[code_2])"
   ]
  },
  {
   "cell_type": "markdown",
   "metadata": {},
   "source": [
    "Just to show off, we can also get easily:"
   ]
  },
  {
   "cell_type": "code",
   "execution_count": 8,
   "metadata": {
    "scrolled": false
   },
   "outputs": [
    {
     "name": "stdout",
     "output_type": "stream",
     "text": [
      "El código del eje X es:  Party identification\n",
      "El código del eje Y es:  Benefits of vaccin. outweight risks\n"
     ]
    },
    {
     "data": {
      "image/png": "[encoded data removed]",
      "text/plain": [
       "<Figure size 432x432 with 3 Axes>"
      ]
     },
     "metadata": {
      "needs_background": "light"
     },
     "output_type": "display_data"
    }
   ],
   "source": [
    "code_1 = 'V161158x' # Wall with Mexico\n",
    "code_2 = 'V162162x' # Birthright citizenship\n",
    "weights = 'V160101'\n",
    "\n",
    "df_aux = df_data.loc[(df_data[code_1]>0) & (df_data[code_2]>0)]\n",
    "\n",
    "sns.jointplot(df_aux, x=code_1, y=code_2, kind=\"hist\", vmin=0, cmap='inferno',\n",
    "              joint_kws={'discrete': True, 'weights': df_aux[weights]}, \n",
    "              marginal_kws={'discrete': True, 'weights': df_aux[weights]})\n",
    "\n",
    "# plt.gca().invert_yaxis()\n",
    "\n",
    "print(\"El código del eje X es: \",dict_labels[code_1])\n",
    "print(\"El código del eje Y es: \",dict_labels[code_2])"
   ]
  },
  {
   "cell_type": "markdown",
   "metadata": {},
   "source": [
    "## Matplotlib\n",
    "\n",
    "It works, but could become a little cumbersome depending on the plot (see, for example, the range needed to correctly capture the bins in the 1D scenario, but also on 2D, which is disgusting and made me feel ashamed of myself)."
   ]
  },
  {
   "cell_type": "code",
   "execution_count": 9,
   "metadata": {
    "scrolled": false
   },
   "outputs": [
    {
     "data": {
      "image/png": "[encoded data removed]",
      "text/plain": [
       "<Figure size 432x288 with 1 Axes>"
      ]
     },
     "metadata": {
      "needs_background": "light"
     },
     "output_type": "display_data"
    }
   ],
   "source": [
    "code = 'V161196x' # Wall with Mexico\n",
    "weights = 'V160101'\n",
    "\n",
    "df_aux = df_data.loc[df_data[code]>0]\n",
    "\n",
    "hist, edges, fig = plt.hist(x=df_aux[code], weights=df_aux[weights],\n",
    "         bins=np.arange(df_aux[code].min(), df_aux[code].max()+2, 1), align='left')"
   ]
  },
  {
   "cell_type": "code",
   "execution_count": 10,
   "metadata": {
    "scrolled": false
   },
   "outputs": [
    {
     "data": {
      "text/plain": [
       "<matplotlib.colorbar.Colorbar at 0x7f5d6f8792a0>"
      ]
     },
     "execution_count": 10,
     "metadata": {},
     "output_type": "execute_result"
    },
    {
     "data": {
      "image/png": "[encoded data removed]",
      "text/plain": [
       "<Figure size 432x288 with 2 Axes>"
      ]
     },
     "metadata": {
      "needs_background": "light"
     },
     "output_type": "display_data"
    }
   ],
   "source": [
    "code_1 = 'V161196x' # Wall with Mexico\n",
    "code_2 = 'V161114x' # Birthright citizenship\n",
    "weights = 'V160101'\n",
    "\n",
    "df_aux = df_data.loc[(df_data[code_1]>0) & (df_data[code_2]>0)]\n",
    "\n",
    "hist2d, xedges, yedges, im = plt.hist2d(x=df_aux[code_1], y=df_aux[code_2], weights=df_aux[weights], vmin=0,\n",
    "         bins=[np.arange(df_aux[code_1].min()-0.5, df_aux[code_1].max()+1.5, 1), np.arange(df_aux[code_2].min()-0.5, df_aux[code_2].max()+1.5, 1)])\n",
    "\n",
    "plt.colorbar(im)"
   ]
  },
  {
   "cell_type": "markdown",
   "metadata": {},
   "source": [
    "On the positive side, it also gives back the histogram, which we will need to make comparisons with our synthetic results."
   ]
  },
  {
   "cell_type": "code",
   "execution_count": 11,
   "metadata": {},
   "outputs": [
    {
     "name": "stdout",
     "output_type": "stream",
     "text": [
      "[[ 60.9233  57.7185  10.4992 138.0466  15.9463  92.5951 523.0534]\n",
      " [ 25.4241  43.6283  10.8046  60.7244   8.8692  83.6373 158.5334]\n",
      " [  2.6355   8.0317   4.302   22.6036   3.604   14.2491  26.8464]\n",
      " [ 99.381  129.2703  14.8994 327.6836  15.792  150.4226 219.5452]\n",
      " [ 12.969   20.7714   2.9995  21.5132   2.5139  10.3734  21.8386]\n",
      " [ 45.1193  93.5818  15.0073  76.3261  13.6039  51.803   54.2341]\n",
      " [497.0053 362.568   42.6478 298.5776  18.4315  94.9581 155.4662]]\n"
     ]
    }
   ],
   "source": [
    "print(hist2d)"
   ]
  }
 ],
 "metadata": {
  "kernelspec": {
   "display_name": "Python 3",
   "language": "python",
   "name": "python3"
  },
  "language_info": {
   "codemirror_mode": {
    "name": "ipython",
    "version": 3
   },
   "file_extension": ".py",
   "mimetype": "text/x-python",
   "name": "python",
   "nbconvert_exporter": "python",
   "pygments_lexer": "ipython3",
   "version": "3.6.6"
  }
 },
 "nbformat": 4,
 "nbformat_minor": 5
}
